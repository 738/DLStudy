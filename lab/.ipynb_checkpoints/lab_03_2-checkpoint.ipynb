{
 "cells": [
  {
   "cell_type": "code",
   "execution_count": 1,
   "metadata": {},
   "outputs": [],
   "source": [
    "import tensorflow as tf"
   ]
  },
  {
   "cell_type": "code",
   "execution_count": 3,
   "metadata": {},
   "outputs": [
    {
     "name": "stdout",
     "output_type": "stream",
     "text": [
      "0 7.976678 [1.7548263]\n",
      "1 2.2689223 [1.4025741]\n",
      "2 0.6453824 [1.2147062]\n",
      "3 0.1835753 [1.1145099]\n",
      "4 0.052217077 [1.061072]\n",
      "5 0.014852772 [1.0325717]\n",
      "6 0.0042247707 [1.0173715]\n",
      "7 0.0012017116 [1.0092648]\n",
      "8 0.00034181986 [1.0049412]\n",
      "9 9.722981e-05 [1.0026354]\n",
      "10 2.765514e-05 [1.0014055]\n",
      "11 7.866351e-06 [1.0007496]\n",
      "12 2.2380734e-06 [1.0003998]\n",
      "13 6.369025e-07 [1.0002133]\n",
      "14 1.8106937e-07 [1.0001137]\n",
      "15 5.158809e-08 [1.0000607]\n",
      "16 1.4588139e-08 [1.0000323]\n",
      "17 4.1953427e-09 [1.0000173]\n",
      "18 1.1861658e-09 [1.0000092]\n",
      "19 3.3794834e-10 [1.0000049]\n",
      "20 9.629275e-11 [1.0000026]\n"
     ]
    }
   ],
   "source": [
    "x_data = [1,2,3]\n",
    "y_data = [1,2,3]\n",
    "\n",
    "W = tf.Variable(tf.random_normal([1]), name='weight')\n",
    "X = tf.placeholder(tf.float32)\n",
    "Y = tf.placeholder(tf.float32)\n",
    "\n",
    "hypothesis = X * W\n",
    "\n",
    "cost = tf.reduce_sum(tf.square(hypothesis - Y))\n",
    "\n",
    "learning_rate = 0.1\n",
    "gradient = tf.reduce_mean((W * X - Y) * X)\n",
    "descent = W - learning_rate * gradient\n",
    "update = W.assign(descent)\n",
    "\n",
    "sess = tf.Session()\n",
    "sess.run(tf.global_variables_initializer())\n",
    "for step in range(21):\n",
    "    sess.run(update, feed_dict={X: x_data, Y: y_data})\n",
    "    print(step, sess.run(cost, feed_dict={X: x_data, Y: y_data}), sess.run(W))"
   ]
  },
  {
   "cell_type": "code",
   "execution_count": null,
   "metadata": {},
   "outputs": [],
   "source": []
  }
 ],
 "metadata": {
  "kernelspec": {
   "display_name": "Python 3",
   "language": "python",
   "name": "python3"
  },
  "language_info": {
   "codemirror_mode": {
    "name": "ipython",
    "version": 3
   },
   "file_extension": ".py",
   "mimetype": "text/x-python",
   "name": "python",
   "nbconvert_exporter": "python",
   "pygments_lexer": "ipython3",
   "version": "3.5.6"
  }
 },
 "nbformat": 4,
 "nbformat_minor": 2
}
