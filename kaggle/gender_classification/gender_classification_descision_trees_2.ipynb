{
 "cells": [
  {
   "cell_type": "code",
   "execution_count": 94,
   "metadata": {},
   "outputs": [
    {
     "data": {
      "text/html": [
       "<div>\n",
       "<style scoped>\n",
       "    .dataframe tbody tr th:only-of-type {\n",
       "        vertical-align: middle;\n",
       "    }\n",
       "\n",
       "    .dataframe tbody tr th {\n",
       "        vertical-align: top;\n",
       "    }\n",
       "\n",
       "    .dataframe thead th {\n",
       "        text-align: right;\n",
       "    }\n",
       "</style>\n",
       "<table border=\"1\" class=\"dataframe\">\n",
       "  <thead>\n",
       "    <tr style=\"text-align: right;\">\n",
       "      <th></th>\n",
       "      <th>Favorite Color</th>\n",
       "      <th>Favorite Music Genre</th>\n",
       "      <th>Favorite Beverage</th>\n",
       "      <th>Favorite Soft Drink</th>\n",
       "      <th>Gender</th>\n",
       "    </tr>\n",
       "  </thead>\n",
       "  <tbody>\n",
       "    <tr>\n",
       "      <th>0</th>\n",
       "      <td>Cool</td>\n",
       "      <td>Rock</td>\n",
       "      <td>Vodka</td>\n",
       "      <td>7UP/Sprite</td>\n",
       "      <td>F</td>\n",
       "    </tr>\n",
       "    <tr>\n",
       "      <th>1</th>\n",
       "      <td>Neutral</td>\n",
       "      <td>Hip hop</td>\n",
       "      <td>Vodka</td>\n",
       "      <td>Coca Cola/Pepsi</td>\n",
       "      <td>F</td>\n",
       "    </tr>\n",
       "    <tr>\n",
       "      <th>2</th>\n",
       "      <td>Warm</td>\n",
       "      <td>Rock</td>\n",
       "      <td>Wine</td>\n",
       "      <td>Coca Cola/Pepsi</td>\n",
       "      <td>F</td>\n",
       "    </tr>\n",
       "    <tr>\n",
       "      <th>3</th>\n",
       "      <td>Warm</td>\n",
       "      <td>Folk/Traditional</td>\n",
       "      <td>Whiskey</td>\n",
       "      <td>Fanta</td>\n",
       "      <td>F</td>\n",
       "    </tr>\n",
       "    <tr>\n",
       "      <th>4</th>\n",
       "      <td>Cool</td>\n",
       "      <td>Rock</td>\n",
       "      <td>Vodka</td>\n",
       "      <td>Coca Cola/Pepsi</td>\n",
       "      <td>F</td>\n",
       "    </tr>\n",
       "  </tbody>\n",
       "</table>\n",
       "</div>"
      ],
      "text/plain": [
       "  Favorite Color Favorite Music Genre Favorite Beverage Favorite Soft Drink  \\\n",
       "0           Cool                 Rock             Vodka          7UP/Sprite   \n",
       "1        Neutral              Hip hop             Vodka     Coca Cola/Pepsi   \n",
       "2           Warm                 Rock              Wine     Coca Cola/Pepsi   \n",
       "3           Warm     Folk/Traditional           Whiskey               Fanta   \n",
       "4           Cool                 Rock             Vodka     Coca Cola/Pepsi   \n",
       "\n",
       "  Gender  \n",
       "0      F  \n",
       "1      F  \n",
       "2      F  \n",
       "3      F  \n",
       "4      F  "
      ]
     },
     "execution_count": 94,
     "metadata": {},
     "output_type": "execute_result"
    }
   ],
   "source": [
    "import pandas as pd\n",
    "import math\n",
    "from collections import Counter, defaultdict\n",
    "from functools import partial\n",
    "train = pd.read_csv('data/gender_classification.csv')\n",
    "train.head()"
   ]
  },
  {
   "cell_type": "code",
   "execution_count": 63,
   "metadata": {},
   "outputs": [],
   "source": [
    "def entropy(class_probabilities):\n",
    "    return sum(-p * math.log(p, 2) for p in class_probabilities if p)"
   ]
  },
  {
   "cell_type": "code",
   "execution_count": 73,
   "metadata": {},
   "outputs": [],
   "source": [
    "def class_probabilities(labels):\n",
    "    total_count = len(labels)\n",
    "    return [count / total_count for count in Counter(labels).values()]"
   ]
  },
  {
   "cell_type": "code",
   "execution_count": 75,
   "metadata": {},
   "outputs": [],
   "source": [
    "def data_entropy(labeled_data):\n",
    "    labels = [label for _, label in labeled_data]\n",
    "    probabilities = class_probabilities(labels)\n",
    "    return entropy(probabilities)"
   ]
  },
  {
   "cell_type": "code",
   "execution_count": 66,
   "metadata": {},
   "outputs": [],
   "source": [
    "def partition_entropy(subsets):\n",
    "    total_count = sum(len(subset) for subset in subsets)\n",
    "    return sum(data_entropy(subset) * len(subset) / total_count for subset in subsets)"
   ]
  },
  {
   "cell_type": "code",
   "execution_count": 67,
   "metadata": {},
   "outputs": [],
   "source": [
    "def partition_by(inputs, attribute):\n",
    "    groups = defaultdict(list)\n",
    "    for input in inputs:\n",
    "        key = input[0][attribute]\n",
    "        groups[key].append(input)\n",
    "    return groups"
   ]
  },
  {
   "cell_type": "code",
   "execution_count": 68,
   "metadata": {},
   "outputs": [],
   "source": [
    "def partition_entropy_by(inputs, attribute):\n",
    "    partitions = partition_by(inputs, attribute)\n",
    "    return partition_entropy(partitions.values())"
   ]
  },
  {
   "cell_type": "code",
   "execution_count": 69,
   "metadata": {},
   "outputs": [
    {
     "name": "stdout",
     "output_type": "stream",
     "text": [
      "[({'beverage': 'Vodka', 'drink': '7UP/Sprite', 'music': 'Rock', 'color': 'Cool'}, False), ({'beverage': 'Vodka', 'drink': 'Coca Cola/Pepsi', 'music': 'Hip hop', 'color': 'Neutral'}, False), ({'beverage': 'Wine', 'drink': 'Coca Cola/Pepsi', 'music': 'Rock', 'color': 'Warm'}, False), ({'beverage': 'Whiskey', 'drink': 'Fanta', 'music': 'Folk/Traditional', 'color': 'Warm'}, False), ({'beverage': 'Vodka', 'drink': 'Coca Cola/Pepsi', 'music': 'Rock', 'color': 'Cool'}, False), ({'beverage': \"Doesn't drink\", 'drink': 'Fanta', 'music': 'Jazz/Blues', 'color': 'Warm'}, False), ({'beverage': 'Beer', 'drink': 'Coca Cola/Pepsi', 'music': 'Pop', 'color': 'Cool'}, False), ({'beverage': 'Whiskey', 'drink': 'Fanta', 'music': 'Pop', 'color': 'Warm'}, False), ({'beverage': 'Other', 'drink': '7UP/Sprite', 'music': 'Rock', 'color': 'Warm'}, False), ({'beverage': 'Wine', 'drink': 'Coca Cola/Pepsi', 'music': 'Pop', 'color': 'Neutral'}, False), ({'beverage': 'Other', 'drink': '7UP/Sprite', 'music': 'Pop', 'color': 'Cool'}, False), ({'beverage': 'Other', 'drink': '7UP/Sprite', 'music': 'Pop', 'color': 'Warm'}, False), ({'beverage': 'Wine', 'drink': '7UP/Sprite', 'music': 'Pop', 'color': 'Warm'}, False), ({'beverage': 'Wine', 'drink': 'Coca Cola/Pepsi', 'music': 'Electronic', 'color': 'Warm'}, False), ({'beverage': 'Beer', 'drink': 'Coca Cola/Pepsi', 'music': 'Rock', 'color': 'Cool'}, False), ({'beverage': 'Wine', 'drink': 'Coca Cola/Pepsi', 'music': 'Jazz/Blues', 'color': 'Warm'}, False), ({'beverage': 'Wine', 'drink': '7UP/Sprite', 'music': 'Pop', 'color': 'Cool'}, False), ({'beverage': 'Other', 'drink': 'Coca Cola/Pepsi', 'music': 'Rock', 'color': 'Cool'}, False), ({'beverage': 'Other', 'drink': 'Coca Cola/Pepsi', 'music': 'Rock', 'color': 'Cool'}, False), ({'beverage': \"Doesn't drink\", 'drink': '7UP/Sprite', 'music': 'Pop', 'color': 'Cool'}, False), ({'beverage': 'Beer', 'drink': 'Fanta', 'music': 'Pop', 'color': 'Cool'}, False), ({'beverage': 'Whiskey', 'drink': 'Fanta', 'music': 'Jazz/Blues', 'color': 'Warm'}, False), ({'beverage': 'Vodka', 'drink': 'Coca Cola/Pepsi', 'music': 'Rock', 'color': 'Cool'}, False), ({'beverage': 'Other', 'drink': 'Coca Cola/Pepsi', 'music': 'Pop', 'color': 'Warm'}, False), ({'beverage': 'Whiskey', 'drink': '7UP/Sprite', 'music': 'Folk/Traditional', 'color': 'Cool'}, False), ({'beverage': 'Whiskey', 'drink': 'Coca Cola/Pepsi', 'music': 'R&B and soul', 'color': 'Warm'}, False), ({'beverage': 'Beer', 'drink': 'Other', 'music': 'Pop', 'color': 'Cool'}, False), ({'beverage': \"Doesn't drink\", 'drink': 'Other', 'music': 'Pop', 'color': 'Cool'}, False), ({'beverage': \"Doesn't drink\", 'drink': 'Coca Cola/Pepsi', 'music': 'Pop', 'color': 'Cool'}, False), ({'beverage': \"Doesn't drink\", 'drink': 'Fanta', 'music': 'Electronic', 'color': 'Cool'}, False), ({'beverage': 'Other', 'drink': 'Coca Cola/Pepsi', 'music': 'Rock', 'color': 'Warm'}, False), ({'beverage': 'Beer', 'drink': 'Coca Cola/Pepsi', 'music': 'Rock', 'color': 'Neutral'}, False), ({'beverage': 'Beer', 'drink': 'Coca Cola/Pepsi', 'music': 'R&B and soul', 'color': 'Cool'}, False), ({'beverage': 'Wine', 'drink': 'Other', 'music': 'R&B and soul', 'color': 'Warm'}, True), ({'beverage': 'Beer', 'drink': '7UP/Sprite', 'music': 'Hip hop', 'color': 'Neutral'}, True), ({'beverage': 'Other', 'drink': 'Coca Cola/Pepsi', 'music': 'Electronic', 'color': 'Warm'}, True), ({'beverage': \"Doesn't drink\", 'drink': 'Coca Cola/Pepsi', 'music': 'Rock', 'color': 'Neutral'}, True), ({'beverage': 'Other', 'drink': 'Fanta', 'music': 'Pop', 'color': 'Cool'}, True), ({'beverage': 'Whiskey', 'drink': 'Fanta', 'music': 'Pop', 'color': 'Cool'}, True), ({'beverage': 'Vodka', 'drink': '7UP/Sprite', 'music': 'Rock', 'color': 'Warm'}, True), ({'beverage': 'Vodka', 'drink': 'Coca Cola/Pepsi', 'music': 'Rock', 'color': 'Cool'}, True), ({'beverage': \"Doesn't drink\", 'drink': '7UP/Sprite', 'music': 'Pop', 'color': 'Neutral'}, True), ({'beverage': \"Doesn't drink\", 'drink': 'Coca Cola/Pepsi', 'music': 'R&B and soul', 'color': 'Warm'}, True), ({'beverage': 'Wine', 'drink': '7UP/Sprite', 'music': 'Rock', 'color': 'Cool'}, True), ({'beverage': 'Beer', 'drink': 'Other', 'music': 'Folk/Traditional', 'color': 'Cool'}, True), ({'beverage': 'Beer', 'drink': 'Coca Cola/Pepsi', 'music': 'Hip hop', 'color': 'Cool'}, True), ({'beverage': 'Wine', 'drink': 'Coca Cola/Pepsi', 'music': 'Hip hop', 'color': 'Cool'}, True), ({'beverage': 'Whiskey', 'drink': '7UP/Sprite', 'music': 'R&B and soul', 'color': 'Cool'}, True), ({'beverage': \"Doesn't drink\", 'drink': 'Other', 'music': 'Rock', 'color': 'Cool'}, True), ({'beverage': 'Beer', 'drink': 'Coca Cola/Pepsi', 'music': 'Hip hop', 'color': 'Warm'}, True), ({'beverage': \"Doesn't drink\", 'drink': 'Coca Cola/Pepsi', 'music': 'R&B and soul', 'color': 'Cool'}, True), ({'beverage': \"Doesn't drink\", 'drink': 'Coca Cola/Pepsi', 'music': 'Rock', 'color': 'Cool'}, True), ({'beverage': \"Doesn't drink\", 'drink': 'Other', 'music': 'Hip hop', 'color': 'Cool'}, True), ({'beverage': 'Beer', 'drink': 'Fanta', 'music': 'Rock', 'color': 'Warm'}, True), ({'beverage': \"Doesn't drink\", 'drink': 'Fanta', 'music': 'Electronic', 'color': 'Cool'}, True), ({'beverage': 'Other', 'drink': 'Fanta', 'music': 'Electronic', 'color': 'Cool'}, True), ({'beverage': 'Other', 'drink': 'Fanta', 'music': 'Folk/Traditional', 'color': 'Warm'}, True), ({'beverage': 'Vodka', 'drink': 'Fanta', 'music': 'Electronic', 'color': 'Warm'}, True), ({'beverage': 'Vodka', 'drink': 'Coca Cola/Pepsi', 'music': 'Jazz/Blues', 'color': 'Warm'}, True), ({'beverage': 'Whiskey', 'drink': 'Other', 'music': 'Pop', 'color': 'Cool'}, True), ({'beverage': 'Whiskey', 'drink': 'Coca Cola/Pepsi', 'music': 'Electronic', 'color': 'Cool'}, True), ({'beverage': 'Vodka', 'drink': 'Coca Cola/Pepsi', 'music': 'Rock', 'color': 'Cool'}, True), ({'beverage': 'Beer', 'drink': 'Coca Cola/Pepsi', 'music': 'Hip hop', 'color': 'Cool'}, True), ({'beverage': \"Doesn't drink\", 'drink': 'Fanta', 'music': 'Hip hop', 'color': 'Neutral'}, True), ({'beverage': 'Wine', 'drink': 'Coca Cola/Pepsi', 'music': 'Rock', 'color': 'Cool'}, True), ({'beverage': 'Beer', 'drink': 'Coca Cola/Pepsi', 'music': 'Electronic', 'color': 'Cool'}, True)]\n"
     ]
    }
   ],
   "source": [
    "inputs = []\n",
    "for row in train.values:\n",
    "    input = {}\n",
    "    input['color'] = row[0]\n",
    "    input['music'] = row[1]\n",
    "    input['beverage'] = row[2]\n",
    "    input['drink'] = row[3]\n",
    "    label = False if row[4] == 'F' else True\n",
    "    inputs.append((input, label))\n",
    "print(inputs)"
   ]
  },
  {
   "cell_type": "code",
   "execution_count": 76,
   "metadata": {},
   "outputs": [
    {
     "name": "stdout",
     "output_type": "stream",
     "text": [
      "color 0.9877787203441428\n",
      "music 0.8475272242792208\n",
      "beverage 0.9705999798596151\n",
      "drink 0.9733467653099968\n"
     ]
    }
   ],
   "source": [
    "for key in ['color', 'music', 'beverage', 'drink']:\n",
    "    print(key, partition_entropy_by(inputs, key))"
   ]
  },
  {
   "cell_type": "code",
   "execution_count": 79,
   "metadata": {},
   "outputs": [
    {
     "name": "stdout",
     "output_type": "stream",
     "text": [
      "[({'beverage': 'Vodka', 'drink': '7UP/Sprite', 'music': 'Rock', 'color': 'Cool'}, False), ({'beverage': 'Wine', 'drink': 'Coca Cola/Pepsi', 'music': 'Rock', 'color': 'Warm'}, False), ({'beverage': 'Vodka', 'drink': 'Coca Cola/Pepsi', 'music': 'Rock', 'color': 'Cool'}, False), ({'beverage': 'Other', 'drink': '7UP/Sprite', 'music': 'Rock', 'color': 'Warm'}, False), ({'beverage': 'Beer', 'drink': 'Coca Cola/Pepsi', 'music': 'Rock', 'color': 'Cool'}, False), ({'beverage': 'Other', 'drink': 'Coca Cola/Pepsi', 'music': 'Rock', 'color': 'Cool'}, False), ({'beverage': 'Other', 'drink': 'Coca Cola/Pepsi', 'music': 'Rock', 'color': 'Cool'}, False), ({'beverage': 'Vodka', 'drink': 'Coca Cola/Pepsi', 'music': 'Rock', 'color': 'Cool'}, False), ({'beverage': 'Other', 'drink': 'Coca Cola/Pepsi', 'music': 'Rock', 'color': 'Warm'}, False), ({'beverage': 'Beer', 'drink': 'Coca Cola/Pepsi', 'music': 'Rock', 'color': 'Neutral'}, False), ({'beverage': \"Doesn't drink\", 'drink': 'Coca Cola/Pepsi', 'music': 'Rock', 'color': 'Neutral'}, True), ({'beverage': 'Vodka', 'drink': '7UP/Sprite', 'music': 'Rock', 'color': 'Warm'}, True), ({'beverage': 'Vodka', 'drink': 'Coca Cola/Pepsi', 'music': 'Rock', 'color': 'Cool'}, True), ({'beverage': 'Wine', 'drink': '7UP/Sprite', 'music': 'Rock', 'color': 'Cool'}, True), ({'beverage': \"Doesn't drink\", 'drink': 'Other', 'music': 'Rock', 'color': 'Cool'}, True), ({'beverage': \"Doesn't drink\", 'drink': 'Coca Cola/Pepsi', 'music': 'Rock', 'color': 'Cool'}, True), ({'beverage': 'Beer', 'drink': 'Fanta', 'music': 'Rock', 'color': 'Warm'}, True), ({'beverage': 'Vodka', 'drink': 'Coca Cola/Pepsi', 'music': 'Rock', 'color': 'Cool'}, True), ({'beverage': 'Wine', 'drink': 'Coca Cola/Pepsi', 'music': 'Rock', 'color': 'Cool'}, True)]\n"
     ]
    }
   ],
   "source": [
    "music_inputs = [(input, label) for input, label in inputs if input['music'] == \"Rock\"]\n",
    "print(music_inputs)"
   ]
  },
  {
   "cell_type": "code",
   "execution_count": 81,
   "metadata": {},
   "outputs": [
    {
     "name": "stdout",
     "output_type": "stream",
     "text": [
      "color 0.9923554195933337\n",
      "beverage 0.6057776318066809\n",
      "drink 0.8682145190209152\n"
     ]
    }
   ],
   "source": [
    "for key in ['color', 'beverage', 'drink']:\n",
    "    print(key, partition_entropy_by(music_inputs, key))"
   ]
  },
  {
   "cell_type": "code",
   "execution_count": 106,
   "metadata": {},
   "outputs": [],
   "source": [
    "def classify(tree, input):\n",
    "    if tree in [True, False]:\n",
    "        return tree\n",
    "    \n",
    "    attribute, subtree_dict = tree\n",
    "    \n",
    "    subtree_key = input.get(attribute)\n",
    "    \n",
    "    if subtree_key not in subtree_dict:\n",
    "        subtree_key = None\n",
    "        \n",
    "    subtree = subtree_dict[subtree_key]\n",
    "    return classify(subtree, input)"
   ]
  },
  {
   "cell_type": "code",
   "execution_count": 102,
   "metadata": {},
   "outputs": [],
   "source": [
    "def build_tree_id3(inputs, split_people=None):\n",
    "    if split_people is None:\n",
    "        split_people = inputs[0][0].keys()\n",
    "    \n",
    "    num_inputs = len(inputs)\n",
    "    num_trues = len([label for item, label in inputs if label])\n",
    "    num_falses = num_inputs - num_trues\n",
    "    \n",
    "    if num_trues == 0: return False\n",
    "    if num_falses == 0: return True\n",
    "    \n",
    "    if not split_people:\n",
    "        return num_trues >= num_falses\n",
    "    \n",
    "    best_attribute = min(split_people, key=partial(partition_entropy_by, inputs))\n",
    "    partitions = partition_by(inputs, best_attribute)\n",
    "    new_people = [a for a in split_people if a != best_attribute]\n",
    "    \n",
    "    subtrees = { attribute_value: build_tree_id3(subset, new_people)\n",
    "               for attribute_value, subset in partitions.items() }\n",
    "    \n",
    "    subtrees[None] = num_trues > num_falses\n",
    "    return (best_attribute, subtrees)"
   ]
  },
  {
   "cell_type": "code",
   "execution_count": 104,
   "metadata": {},
   "outputs": [
    {
     "name": "stdout",
     "output_type": "stream",
     "text": [
      "('music', {'Pop': ('beverage', {'Wine': False, None: False, \"Doesn't drink\": ('color', {'Neutral': True, None: False, 'Cool': False}), 'Beer': False, 'Whiskey': ('color', {None: True, 'Cool': True, 'Warm': False}), 'Other': ('drink', {'Fanta': True, 'Coca Cola/Pepsi': False, '7UP/Sprite': False, None: False})}), 'R&B and soul': ('beverage', {None: True, 'Wine': True, \"Doesn't drink\": True, 'Beer': False, 'Whiskey': ('drink', {None: False, 'Coca Cola/Pepsi': False, '7UP/Sprite': True})}), 'Folk/Traditional': ('beverage', {None: False, 'Other': True, 'Beer': True, 'Whiskey': False}), 'Electronic': ('beverage', {'Wine': False, None: True, 'Vodka': True, \"Doesn't drink\": ('drink', {'Fanta': ('color', {None: False, 'Cool': True}), None: False}), 'Beer': True, 'Whiskey': True, 'Other': True}), None: False, 'Hip hop': ('beverage', {None: True, 'Wine': True, \"Doesn't drink\": True, 'Beer': True, 'Vodka': False}), 'Jazz/Blues': ('beverage', {None: False, 'Wine': False, \"Doesn't drink\": False, 'Whiskey': False, 'Vodka': True}), 'Rock': ('beverage', {'Wine': ('color', {None: True, 'Cool': True, 'Warm': False}), 'Other': False, None: False, \"Doesn't drink\": True, 'Beer': ('drink', {'Fanta': True, 'Coca Cola/Pepsi': False, None: False}), 'Vodka': ('color', {None: False, 'Cool': ('drink', {None: False, 'Coca Cola/Pepsi': True, '7UP/Sprite': False}), 'Warm': True})})})\n"
     ]
    }
   ],
   "source": [
    "tree = build_tree_id3(inputs)\n",
    "print(tree)"
   ]
  },
  {
   "cell_type": "code",
   "execution_count": 112,
   "metadata": {},
   "outputs": [
    {
     "data": {
      "text/plain": [
       "True"
      ]
     },
     "execution_count": 112,
     "metadata": {},
     "output_type": "execute_result"
    }
   ],
   "source": [
    "classify(tree, {\"color\": \"Cool\", \"music\": \"Hip hop\", \"beverage\": \"Beer\", \"drink\": \"7UP/Sprite\" })"
   ]
  },
  {
   "cell_type": "code",
   "execution_count": null,
   "metadata": {},
   "outputs": [],
   "source": []
  }
 ],
 "metadata": {
  "kernelspec": {
   "display_name": "Python 3",
   "language": "python",
   "name": "python3"
  },
  "language_info": {
   "codemirror_mode": {
    "name": "ipython",
    "version": 3
   },
   "file_extension": ".py",
   "mimetype": "text/x-python",
   "name": "python",
   "nbconvert_exporter": "python",
   "pygments_lexer": "ipython3",
   "version": "3.5.6"
  }
 },
 "nbformat": 4,
 "nbformat_minor": 2
}
