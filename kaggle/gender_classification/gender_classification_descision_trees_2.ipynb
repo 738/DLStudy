{
 "cells": [
  {
   "cell_type": "code",
   "execution_count": 2,
   "metadata": {},
   "outputs": [
    {
     "data": {
      "text/html": [
       "<div>\n",
       "<style scoped>\n",
       "    .dataframe tbody tr th:only-of-type {\n",
       "        vertical-align: middle;\n",
       "    }\n",
       "\n",
       "    .dataframe tbody tr th {\n",
       "        vertical-align: top;\n",
       "    }\n",
       "\n",
       "    .dataframe thead th {\n",
       "        text-align: right;\n",
       "    }\n",
       "</style>\n",
       "<table border=\"1\" class=\"dataframe\">\n",
       "  <thead>\n",
       "    <tr style=\"text-align: right;\">\n",
       "      <th></th>\n",
       "      <th>Favorite Color</th>\n",
       "      <th>Favorite Music Genre</th>\n",
       "      <th>Favorite Beverage</th>\n",
       "      <th>Favorite Soft Drink</th>\n",
       "      <th>Gender</th>\n",
       "    </tr>\n",
       "  </thead>\n",
       "  <tbody>\n",
       "    <tr>\n",
       "      <th>0</th>\n",
       "      <td>Cool</td>\n",
       "      <td>Rock</td>\n",
       "      <td>Vodka</td>\n",
       "      <td>7UP/Sprite</td>\n",
       "      <td>F</td>\n",
       "    </tr>\n",
       "    <tr>\n",
       "      <th>1</th>\n",
       "      <td>Neutral</td>\n",
       "      <td>Hip hop</td>\n",
       "      <td>Vodka</td>\n",
       "      <td>Coca Cola/Pepsi</td>\n",
       "      <td>F</td>\n",
       "    </tr>\n",
       "    <tr>\n",
       "      <th>2</th>\n",
       "      <td>Warm</td>\n",
       "      <td>Rock</td>\n",
       "      <td>Wine</td>\n",
       "      <td>Coca Cola/Pepsi</td>\n",
       "      <td>F</td>\n",
       "    </tr>\n",
       "    <tr>\n",
       "      <th>3</th>\n",
       "      <td>Warm</td>\n",
       "      <td>Folk/Traditional</td>\n",
       "      <td>Whiskey</td>\n",
       "      <td>Fanta</td>\n",
       "      <td>F</td>\n",
       "    </tr>\n",
       "    <tr>\n",
       "      <th>4</th>\n",
       "      <td>Cool</td>\n",
       "      <td>Rock</td>\n",
       "      <td>Vodka</td>\n",
       "      <td>Coca Cola/Pepsi</td>\n",
       "      <td>F</td>\n",
       "    </tr>\n",
       "  </tbody>\n",
       "</table>\n",
       "</div>"
      ],
      "text/plain": [
       "  Favorite Color Favorite Music Genre Favorite Beverage Favorite Soft Drink  \\\n",
       "0           Cool                 Rock             Vodka          7UP/Sprite   \n",
       "1        Neutral              Hip hop             Vodka     Coca Cola/Pepsi   \n",
       "2           Warm                 Rock              Wine     Coca Cola/Pepsi   \n",
       "3           Warm     Folk/Traditional           Whiskey               Fanta   \n",
       "4           Cool                 Rock             Vodka     Coca Cola/Pepsi   \n",
       "\n",
       "  Gender  \n",
       "0      F  \n",
       "1      F  \n",
       "2      F  \n",
       "3      F  \n",
       "4      F  "
      ]
     },
     "execution_count": 2,
     "metadata": {},
     "output_type": "execute_result"
    }
   ],
   "source": [
    "import pandas as pd\n",
    "import math\n",
    "from collections import Counter, defaultdict\n",
    "from functools import partial\n",
    "train = pd.read_csv('data/gender_classification.csv')\n",
    "train.head()"
   ]
  },
  {
   "cell_type": "code",
   "execution_count": 3,
   "metadata": {},
   "outputs": [],
   "source": [
    "def entropy(class_probabilities):\n",
    "    return sum(-p * math.log(p, 2) for p in class_probabilities if p)"
   ]
  },
  {
   "cell_type": "code",
   "execution_count": 4,
   "metadata": {},
   "outputs": [],
   "source": [
    "def class_probabilities(labels):\n",
    "    total_count = len(labels)\n",
    "    return [count / total_count for count in Counter(labels).values()]"
   ]
  },
  {
   "cell_type": "code",
   "execution_count": 5,
   "metadata": {},
   "outputs": [],
   "source": [
    "def data_entropy(labeled_data):\n",
    "    labels = [label for _, label in labeled_data]\n",
    "    probabilities = class_probabilities(labels)\n",
    "    return entropy(probabilities)"
   ]
  },
  {
   "cell_type": "code",
   "execution_count": 6,
   "metadata": {},
   "outputs": [],
   "source": [
    "def partition_entropy(subsets):\n",
    "    total_count = sum(len(subset) for subset in subsets)\n",
    "    return sum(data_entropy(subset) * len(subset) / total_count for subset in subsets)"
   ]
  },
  {
   "cell_type": "code",
   "execution_count": 7,
   "metadata": {},
   "outputs": [],
   "source": [
    "def partition_by(inputs, attribute):\n",
    "    groups = defaultdict(list)\n",
    "    for input in inputs:\n",
    "        key = input[0][attribute]\n",
    "        groups[key].append(input)\n",
    "    return groups"
   ]
  },
  {
   "cell_type": "code",
   "execution_count": 8,
   "metadata": {},
   "outputs": [],
   "source": [
    "def partition_entropy_by(inputs, attribute):\n",
    "    partitions = partition_by(inputs, attribute)\n",
    "    return partition_entropy(partitions.values())"
   ]
  },
  {
   "cell_type": "code",
   "execution_count": 9,
   "metadata": {},
   "outputs": [
    {
     "name": "stdout",
     "output_type": "stream",
     "text": [
      "[({'color': 'Cool', 'drink': '7UP/Sprite', 'music': 'Rock', 'beverage': 'Vodka'}, False), ({'color': 'Neutral', 'drink': 'Coca Cola/Pepsi', 'music': 'Hip hop', 'beverage': 'Vodka'}, False), ({'color': 'Warm', 'drink': 'Coca Cola/Pepsi', 'music': 'Rock', 'beverage': 'Wine'}, False), ({'color': 'Warm', 'drink': 'Fanta', 'music': 'Folk/Traditional', 'beverage': 'Whiskey'}, False), ({'color': 'Cool', 'drink': 'Coca Cola/Pepsi', 'music': 'Rock', 'beverage': 'Vodka'}, False), ({'color': 'Warm', 'drink': 'Fanta', 'music': 'Jazz/Blues', 'beverage': \"Doesn't drink\"}, False), ({'color': 'Cool', 'drink': 'Coca Cola/Pepsi', 'music': 'Pop', 'beverage': 'Beer'}, False), ({'color': 'Warm', 'drink': 'Fanta', 'music': 'Pop', 'beverage': 'Whiskey'}, False), ({'color': 'Warm', 'drink': '7UP/Sprite', 'music': 'Rock', 'beverage': 'Other'}, False), ({'color': 'Neutral', 'drink': 'Coca Cola/Pepsi', 'music': 'Pop', 'beverage': 'Wine'}, False), ({'color': 'Cool', 'drink': '7UP/Sprite', 'music': 'Pop', 'beverage': 'Other'}, False), ({'color': 'Warm', 'drink': '7UP/Sprite', 'music': 'Pop', 'beverage': 'Other'}, False), ({'color': 'Warm', 'drink': '7UP/Sprite', 'music': 'Pop', 'beverage': 'Wine'}, False), ({'color': 'Warm', 'drink': 'Coca Cola/Pepsi', 'music': 'Electronic', 'beverage': 'Wine'}, False), ({'color': 'Cool', 'drink': 'Coca Cola/Pepsi', 'music': 'Rock', 'beverage': 'Beer'}, False), ({'color': 'Warm', 'drink': 'Coca Cola/Pepsi', 'music': 'Jazz/Blues', 'beverage': 'Wine'}, False), ({'color': 'Cool', 'drink': '7UP/Sprite', 'music': 'Pop', 'beverage': 'Wine'}, False), ({'color': 'Cool', 'drink': 'Coca Cola/Pepsi', 'music': 'Rock', 'beverage': 'Other'}, False), ({'color': 'Cool', 'drink': 'Coca Cola/Pepsi', 'music': 'Rock', 'beverage': 'Other'}, False), ({'color': 'Cool', 'drink': '7UP/Sprite', 'music': 'Pop', 'beverage': \"Doesn't drink\"}, False), ({'color': 'Cool', 'drink': 'Fanta', 'music': 'Pop', 'beverage': 'Beer'}, False), ({'color': 'Warm', 'drink': 'Fanta', 'music': 'Jazz/Blues', 'beverage': 'Whiskey'}, False), ({'color': 'Cool', 'drink': 'Coca Cola/Pepsi', 'music': 'Rock', 'beverage': 'Vodka'}, False), ({'color': 'Warm', 'drink': 'Coca Cola/Pepsi', 'music': 'Pop', 'beverage': 'Other'}, False), ({'color': 'Cool', 'drink': '7UP/Sprite', 'music': 'Folk/Traditional', 'beverage': 'Whiskey'}, False), ({'color': 'Warm', 'drink': 'Coca Cola/Pepsi', 'music': 'R&B and soul', 'beverage': 'Whiskey'}, False), ({'color': 'Cool', 'drink': 'Other', 'music': 'Pop', 'beverage': 'Beer'}, False), ({'color': 'Cool', 'drink': 'Other', 'music': 'Pop', 'beverage': \"Doesn't drink\"}, False), ({'color': 'Cool', 'drink': 'Coca Cola/Pepsi', 'music': 'Pop', 'beverage': \"Doesn't drink\"}, False), ({'color': 'Cool', 'drink': 'Fanta', 'music': 'Electronic', 'beverage': \"Doesn't drink\"}, False), ({'color': 'Warm', 'drink': 'Coca Cola/Pepsi', 'music': 'Rock', 'beverage': 'Other'}, False), ({'color': 'Neutral', 'drink': 'Coca Cola/Pepsi', 'music': 'Rock', 'beverage': 'Beer'}, False), ({'color': 'Cool', 'drink': 'Coca Cola/Pepsi', 'music': 'R&B and soul', 'beverage': 'Beer'}, False), ({'color': 'Warm', 'drink': 'Other', 'music': 'R&B and soul', 'beverage': 'Wine'}, True), ({'color': 'Neutral', 'drink': '7UP/Sprite', 'music': 'Hip hop', 'beverage': 'Beer'}, True), ({'color': 'Warm', 'drink': 'Coca Cola/Pepsi', 'music': 'Electronic', 'beverage': 'Other'}, True), ({'color': 'Neutral', 'drink': 'Coca Cola/Pepsi', 'music': 'Rock', 'beverage': \"Doesn't drink\"}, True), ({'color': 'Cool', 'drink': 'Fanta', 'music': 'Pop', 'beverage': 'Other'}, True), ({'color': 'Cool', 'drink': 'Fanta', 'music': 'Pop', 'beverage': 'Whiskey'}, True), ({'color': 'Warm', 'drink': '7UP/Sprite', 'music': 'Rock', 'beverage': 'Vodka'}, True), ({'color': 'Cool', 'drink': 'Coca Cola/Pepsi', 'music': 'Rock', 'beverage': 'Vodka'}, True), ({'color': 'Neutral', 'drink': '7UP/Sprite', 'music': 'Pop', 'beverage': \"Doesn't drink\"}, True), ({'color': 'Warm', 'drink': 'Coca Cola/Pepsi', 'music': 'R&B and soul', 'beverage': \"Doesn't drink\"}, True), ({'color': 'Cool', 'drink': '7UP/Sprite', 'music': 'Rock', 'beverage': 'Wine'}, True), ({'color': 'Cool', 'drink': 'Other', 'music': 'Folk/Traditional', 'beverage': 'Beer'}, True), ({'color': 'Cool', 'drink': 'Coca Cola/Pepsi', 'music': 'Hip hop', 'beverage': 'Beer'}, True), ({'color': 'Cool', 'drink': 'Coca Cola/Pepsi', 'music': 'Hip hop', 'beverage': 'Wine'}, True), ({'color': 'Cool', 'drink': '7UP/Sprite', 'music': 'R&B and soul', 'beverage': 'Whiskey'}, True), ({'color': 'Cool', 'drink': 'Other', 'music': 'Rock', 'beverage': \"Doesn't drink\"}, True), ({'color': 'Warm', 'drink': 'Coca Cola/Pepsi', 'music': 'Hip hop', 'beverage': 'Beer'}, True), ({'color': 'Cool', 'drink': 'Coca Cola/Pepsi', 'music': 'R&B and soul', 'beverage': \"Doesn't drink\"}, True), ({'color': 'Cool', 'drink': 'Coca Cola/Pepsi', 'music': 'Rock', 'beverage': \"Doesn't drink\"}, True), ({'color': 'Cool', 'drink': 'Other', 'music': 'Hip hop', 'beverage': \"Doesn't drink\"}, True), ({'color': 'Warm', 'drink': 'Fanta', 'music': 'Rock', 'beverage': 'Beer'}, True), ({'color': 'Cool', 'drink': 'Fanta', 'music': 'Electronic', 'beverage': \"Doesn't drink\"}, True), ({'color': 'Cool', 'drink': 'Fanta', 'music': 'Electronic', 'beverage': 'Other'}, True), ({'color': 'Warm', 'drink': 'Fanta', 'music': 'Folk/Traditional', 'beverage': 'Other'}, True), ({'color': 'Warm', 'drink': 'Fanta', 'music': 'Electronic', 'beverage': 'Vodka'}, True), ({'color': 'Warm', 'drink': 'Coca Cola/Pepsi', 'music': 'Jazz/Blues', 'beverage': 'Vodka'}, True), ({'color': 'Cool', 'drink': 'Other', 'music': 'Pop', 'beverage': 'Whiskey'}, True), ({'color': 'Cool', 'drink': 'Coca Cola/Pepsi', 'music': 'Electronic', 'beverage': 'Whiskey'}, True), ({'color': 'Cool', 'drink': 'Coca Cola/Pepsi', 'music': 'Rock', 'beverage': 'Vodka'}, True), ({'color': 'Cool', 'drink': 'Coca Cola/Pepsi', 'music': 'Hip hop', 'beverage': 'Beer'}, True), ({'color': 'Neutral', 'drink': 'Fanta', 'music': 'Hip hop', 'beverage': \"Doesn't drink\"}, True), ({'color': 'Cool', 'drink': 'Coca Cola/Pepsi', 'music': 'Rock', 'beverage': 'Wine'}, True), ({'color': 'Cool', 'drink': 'Coca Cola/Pepsi', 'music': 'Electronic', 'beverage': 'Beer'}, True)]\n"
     ]
    }
   ],
   "source": [
    "inputs = []\n",
    "for row in train.values:\n",
    "    input = {}\n",
    "    input['color'] = row[0]\n",
    "    input['music'] = row[1]\n",
    "    input['beverage'] = row[2]\n",
    "    input['drink'] = row[3]\n",
    "    label = False if row[4] == 'F' else True\n",
    "    inputs.append((input, label))\n",
    "print(inputs)"
   ]
  },
  {
   "cell_type": "code",
   "execution_count": 10,
   "metadata": {},
   "outputs": [
    {
     "name": "stdout",
     "output_type": "stream",
     "text": [
      "color 0.9877787203441428\n",
      "music 0.8475272242792208\n",
      "beverage 0.9705999798596151\n",
      "drink 0.9733467653099966\n"
     ]
    }
   ],
   "source": [
    "for key in ['color', 'music', 'beverage', 'drink']:\n",
    "    print(key, partition_entropy_by(inputs, key))"
   ]
  },
  {
   "cell_type": "code",
   "execution_count": 11,
   "metadata": {},
   "outputs": [
    {
     "name": "stdout",
     "output_type": "stream",
     "text": [
      "[({'color': 'Cool', 'drink': '7UP/Sprite', 'music': 'Rock', 'beverage': 'Vodka'}, False), ({'color': 'Warm', 'drink': 'Coca Cola/Pepsi', 'music': 'Rock', 'beverage': 'Wine'}, False), ({'color': 'Cool', 'drink': 'Coca Cola/Pepsi', 'music': 'Rock', 'beverage': 'Vodka'}, False), ({'color': 'Warm', 'drink': '7UP/Sprite', 'music': 'Rock', 'beverage': 'Other'}, False), ({'color': 'Cool', 'drink': 'Coca Cola/Pepsi', 'music': 'Rock', 'beverage': 'Beer'}, False), ({'color': 'Cool', 'drink': 'Coca Cola/Pepsi', 'music': 'Rock', 'beverage': 'Other'}, False), ({'color': 'Cool', 'drink': 'Coca Cola/Pepsi', 'music': 'Rock', 'beverage': 'Other'}, False), ({'color': 'Cool', 'drink': 'Coca Cola/Pepsi', 'music': 'Rock', 'beverage': 'Vodka'}, False), ({'color': 'Warm', 'drink': 'Coca Cola/Pepsi', 'music': 'Rock', 'beverage': 'Other'}, False), ({'color': 'Neutral', 'drink': 'Coca Cola/Pepsi', 'music': 'Rock', 'beverage': 'Beer'}, False), ({'color': 'Neutral', 'drink': 'Coca Cola/Pepsi', 'music': 'Rock', 'beverage': \"Doesn't drink\"}, True), ({'color': 'Warm', 'drink': '7UP/Sprite', 'music': 'Rock', 'beverage': 'Vodka'}, True), ({'color': 'Cool', 'drink': 'Coca Cola/Pepsi', 'music': 'Rock', 'beverage': 'Vodka'}, True), ({'color': 'Cool', 'drink': '7UP/Sprite', 'music': 'Rock', 'beverage': 'Wine'}, True), ({'color': 'Cool', 'drink': 'Other', 'music': 'Rock', 'beverage': \"Doesn't drink\"}, True), ({'color': 'Cool', 'drink': 'Coca Cola/Pepsi', 'music': 'Rock', 'beverage': \"Doesn't drink\"}, True), ({'color': 'Warm', 'drink': 'Fanta', 'music': 'Rock', 'beverage': 'Beer'}, True), ({'color': 'Cool', 'drink': 'Coca Cola/Pepsi', 'music': 'Rock', 'beverage': 'Vodka'}, True), ({'color': 'Cool', 'drink': 'Coca Cola/Pepsi', 'music': 'Rock', 'beverage': 'Wine'}, True)]\n"
     ]
    }
   ],
   "source": [
    "music_inputs = [(input, label) for input, label in inputs if input['music'] == \"Rock\"]\n",
    "print(music_inputs)"
   ]
  },
  {
   "cell_type": "code",
   "execution_count": 12,
   "metadata": {},
   "outputs": [
    {
     "name": "stdout",
     "output_type": "stream",
     "text": [
      "color 0.9923554195933337\n",
      "beverage 0.6057776318066809\n",
      "drink 0.8682145190209152\n"
     ]
    }
   ],
   "source": [
    "for key in ['color', 'beverage', 'drink']:\n",
    "    print(key, partition_entropy_by(music_inputs, key))"
   ]
  },
  {
   "cell_type": "code",
   "execution_count": 13,
   "metadata": {},
   "outputs": [],
   "source": [
    "def classify(tree, input):\n",
    "    if tree in [True, False]:\n",
    "        return tree\n",
    "    \n",
    "    attribute, subtree_dict = tree\n",
    "    \n",
    "    subtree_key = input.get(attribute)\n",
    "    \n",
    "    if subtree_key not in subtree_dict:\n",
    "        subtree_key = None\n",
    "        \n",
    "    subtree = subtree_dict[subtree_key]\n",
    "    return classify(subtree, input)"
   ]
  },
  {
   "cell_type": "code",
   "execution_count": 14,
   "metadata": {},
   "outputs": [],
   "source": [
    "def build_tree_id3(inputs, split_people=None):\n",
    "    if split_people is None:\n",
    "        split_people = inputs[0][0].keys()\n",
    "    \n",
    "    num_inputs = len(inputs)\n",
    "    num_trues = len([label for item, label in inputs if label])\n",
    "    num_falses = num_inputs - num_trues\n",
    "    \n",
    "    if num_trues == 0: return False\n",
    "    if num_falses == 0: return True\n",
    "    \n",
    "    if not split_people:\n",
    "        return num_trues >= num_falses\n",
    "    \n",
    "    best_attribute = min(split_people, key=partial(partition_entropy_by, inputs))\n",
    "    partitions = partition_by(inputs, best_attribute)\n",
    "    new_people = [a for a in split_people if a != best_attribute]\n",
    "    \n",
    "    subtrees = { attribute_value: build_tree_id3(subset, new_people)\n",
    "               for attribute_value, subset in partitions.items() }\n",
    "    \n",
    "    subtrees[None] = num_trues > num_falses\n",
    "    return (best_attribute, subtrees)"
   ]
  },
  {
   "cell_type": "code",
   "execution_count": 15,
   "metadata": {
    "scrolled": false
   },
   "outputs": [
    {
     "name": "stdout",
     "output_type": "stream",
     "text": [
      "('music', {'R&B and soul': ('beverage', {None: True, \"Doesn't drink\": True, 'Wine': True, 'Whiskey': ('color', {None: False, 'Cool': True, 'Warm': False}), 'Beer': False}), None: False, 'Folk/Traditional': ('beverage', {None: False, 'Whiskey': False, 'Other': True, 'Beer': True}), 'Jazz/Blues': ('beverage', {'Wine': False, \"Doesn't drink\": False, 'Vodka': True, 'Whiskey': False, None: False}), 'Rock': ('beverage', {\"Doesn't drink\": True, None: False, 'Wine': ('color', {None: True, 'Cool': True, 'Warm': False}), 'Vodka': ('color', {None: False, 'Cool': ('drink', {None: False, '7UP/Sprite': False, 'Coca Cola/Pepsi': True}), 'Warm': True}), 'Other': False, 'Beer': ('color', {None: False, 'Cool': False, 'Neutral': False, 'Warm': True})}), 'Hip hop': ('beverage', {'Vodka': False, None: True, \"Doesn't drink\": True, 'Wine': True, 'Beer': True}), 'Pop': ('beverage', {\"Doesn't drink\": ('color', {None: False, 'Cool': False, 'Neutral': True}), None: False, 'Wine': False, 'Whiskey': ('color', {None: True, 'Cool': True, 'Warm': False}), 'Other': ('drink', {'Coca Cola/Pepsi': False, '7UP/Sprite': False, 'Fanta': True, None: False}), 'Beer': False}), 'Electronic': ('beverage', {\"Doesn't drink\": ('color', {None: False, 'Cool': ('drink', {None: False, 'Fanta': True})}), None: True, 'Wine': False, 'Vodka': True, 'Whiskey': True, 'Other': True, 'Beer': True})})\n"
     ]
    }
   ],
   "source": [
    "tree = build_tree_id3(inputs)\n",
    "print(tree)"
   ]
  },
  {
   "cell_type": "code",
   "execution_count": 16,
   "metadata": {},
   "outputs": [
    {
     "data": {
      "text/plain": [
       "True"
      ]
     },
     "execution_count": 16,
     "metadata": {},
     "output_type": "execute_result"
    }
   ],
   "source": [
    "classify(tree, {\"color\": \"Cool\", \"music\": \"Hip hop\", \"beverage\": \"Beer\", \"drink\": \"7UP/Sprite\" })"
   ]
  },
  {
   "cell_type": "code",
   "execution_count": 34,
   "metadata": {},
   "outputs": [
    {
     "name": "stdout",
     "output_type": "stream",
     "text": [
      "accuracy: 95.45454545454545%\n"
     ]
    }
   ],
   "source": [
    "accuracy = sum(1 for input, label in inputs \n",
    "              if classify(tree, input) == label) / len(inputs) * 100\n",
    "\n",
    "print('accuracy: {}%'.format(accuracy))\n",
    "    "
   ]
  },
  {
   "cell_type": "code",
   "execution_count": null,
   "metadata": {},
   "outputs": [],
   "source": []
  },
  {
   "cell_type": "code",
   "execution_count": null,
   "metadata": {},
   "outputs": [],
   "source": []
  }
 ],
 "metadata": {
  "kernelspec": {
   "display_name": "Python 3",
   "language": "python",
   "name": "python3"
  },
  "language_info": {
   "codemirror_mode": {
    "name": "ipython",
    "version": 3
   },
   "file_extension": ".py",
   "mimetype": "text/x-python",
   "name": "python",
   "nbconvert_exporter": "python",
   "pygments_lexer": "ipython3",
   "version": "3.5.6"
  }
 },
 "nbformat": 4,
 "nbformat_minor": 2
}
