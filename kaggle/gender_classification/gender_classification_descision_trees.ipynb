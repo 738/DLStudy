{
 "cells": [
  {
   "cell_type": "code",
   "execution_count": 2,
   "metadata": {},
   "outputs": [],
   "source": [
    "# https://youtu.be/UPKugq0fK04 참고\n",
    "# https://machinelearningforbeginners.wordpress.com/2017/11/23/id3-algorithm-implementation-in-python/\n",
    "import pandas as pd\n",
    "import collections\n",
    "import math\n",
    "import seaborn as sns\n",
    "import numpy as np\n",
    "train = pd.read_csv('data/gender_classification.csv')"
   ]
  },
  {
   "cell_type": "code",
   "execution_count": 4,
   "metadata": {},
   "outputs": [
    {
     "data": {
      "text/html": [
       "<div>\n",
       "<style scoped>\n",
       "    .dataframe tbody tr th:only-of-type {\n",
       "        vertical-align: middle;\n",
       "    }\n",
       "\n",
       "    .dataframe tbody tr th {\n",
       "        vertical-align: top;\n",
       "    }\n",
       "\n",
       "    .dataframe thead th {\n",
       "        text-align: right;\n",
       "    }\n",
       "</style>\n",
       "<table border=\"1\" class=\"dataframe\">\n",
       "  <thead>\n",
       "    <tr style=\"text-align: right;\">\n",
       "      <th></th>\n",
       "      <th>Favorite Color</th>\n",
       "      <th>Favorite Music Genre</th>\n",
       "      <th>Favorite Beverage</th>\n",
       "      <th>Favorite Soft Drink</th>\n",
       "      <th>Gender</th>\n",
       "    </tr>\n",
       "  </thead>\n",
       "  <tbody>\n",
       "    <tr>\n",
       "      <th>0</th>\n",
       "      <td>Cool</td>\n",
       "      <td>Rock</td>\n",
       "      <td>Vodka</td>\n",
       "      <td>7UP/Sprite</td>\n",
       "      <td>F</td>\n",
       "    </tr>\n",
       "    <tr>\n",
       "      <th>1</th>\n",
       "      <td>Neutral</td>\n",
       "      <td>Hip hop</td>\n",
       "      <td>Vodka</td>\n",
       "      <td>Coca Cola/Pepsi</td>\n",
       "      <td>F</td>\n",
       "    </tr>\n",
       "    <tr>\n",
       "      <th>2</th>\n",
       "      <td>Warm</td>\n",
       "      <td>Rock</td>\n",
       "      <td>Wine</td>\n",
       "      <td>Coca Cola/Pepsi</td>\n",
       "      <td>F</td>\n",
       "    </tr>\n",
       "    <tr>\n",
       "      <th>3</th>\n",
       "      <td>Warm</td>\n",
       "      <td>Folk/Traditional</td>\n",
       "      <td>Whiskey</td>\n",
       "      <td>Fanta</td>\n",
       "      <td>F</td>\n",
       "    </tr>\n",
       "    <tr>\n",
       "      <th>4</th>\n",
       "      <td>Cool</td>\n",
       "      <td>Rock</td>\n",
       "      <td>Vodka</td>\n",
       "      <td>Coca Cola/Pepsi</td>\n",
       "      <td>F</td>\n",
       "    </tr>\n",
       "  </tbody>\n",
       "</table>\n",
       "</div>"
      ],
      "text/plain": [
       "  Favorite Color Favorite Music Genre Favorite Beverage Favorite Soft Drink  \\\n",
       "0           Cool                 Rock             Vodka          7UP/Sprite   \n",
       "1        Neutral              Hip hop             Vodka     Coca Cola/Pepsi   \n",
       "2           Warm                 Rock              Wine     Coca Cola/Pepsi   \n",
       "3           Warm     Folk/Traditional           Whiskey               Fanta   \n",
       "4           Cool                 Rock             Vodka     Coca Cola/Pepsi   \n",
       "\n",
       "  Gender  \n",
       "0      F  \n",
       "1      F  \n",
       "2      F  \n",
       "3      F  \n",
       "4      F  "
      ]
     },
     "execution_count": 4,
     "metadata": {},
     "output_type": "execute_result"
    }
   ],
   "source": [
    "train.head()"
   ]
  },
  {
   "cell_type": "code",
   "execution_count": 33,
   "metadata": {},
   "outputs": [
    {
     "data": {
      "text/plain": [
       "<matplotlib.axes._subplots.AxesSubplot at 0x1100fb320>"
      ]
     },
     "execution_count": 33,
     "metadata": {},
     "output_type": "execute_result"
    },
    {
     "data": {
      "image/png": "[encoded data removed]",
      "text/plain": [
       "<Figure size 432x288 with 1 Axes>"
      ]
     },
     "metadata": {
      "needs_background": "light"
     },
     "output_type": "display_data"
    }
   ],
   "source": [
    "sns.countplot('Favorite Color', hue='Gender', data=train, palette='Blues')"
   ]
  },
  {
   "cell_type": "code",
   "execution_count": 34,
   "metadata": {},
   "outputs": [
    {
     "data": {
      "text/plain": [
       "<matplotlib.axes._subplots.AxesSubplot at 0x1101a6518>"
      ]
     },
     "execution_count": 34,
     "metadata": {},
     "output_type": "execute_result"
    },
    {
     "data": {
      "image/png": "[encoded data removed]",
      "text/plain": [
       "<Figure size 432x288 with 1 Axes>"
      ]
     },
     "metadata": {
      "needs_background": "light"
     },
     "output_type": "display_data"
    }
   ],
   "source": [
    "sns.countplot('Favorite Music Genre', hue='Gender', data=train, palette='Blues')"
   ]
  },
  {
   "cell_type": "code",
   "execution_count": 35,
   "metadata": {},
   "outputs": [
    {
     "data": {
      "text/plain": [
       "<matplotlib.axes._subplots.AxesSubplot at 0x11024dc18>"
      ]
     },
     "execution_count": 35,
     "metadata": {},
     "output_type": "execute_result"
    },
    {
     "data": {
      "image/png": "[encoded data removed]",
      "text/plain": [
       "<Figure size 432x288 with 1 Axes>"
      ]
     },
     "metadata": {
      "needs_background": "light"
     },
     "output_type": "display_data"
    }
   ],
   "source": [
    "sns.countplot('Favorite Beverage', hue='Gender', data=train, palette='Blues')"
   ]
  },
  {
   "cell_type": "code",
   "execution_count": 36,
   "metadata": {},
   "outputs": [
    {
     "data": {
      "text/plain": [
       "<matplotlib.axes._subplots.AxesSubplot at 0x1102f42e8>"
      ]
     },
     "execution_count": 36,
     "metadata": {},
     "output_type": "execute_result"
    },
    {
     "data": {
      "image/png": "[encoded data removed]",
      "text/plain": [
       "<Figure size 432x288 with 1 Axes>"
      ]
     },
     "metadata": {
      "needs_background": "light"
     },
     "output_type": "display_data"
    }
   ],
   "source": [
    "sns.countplot('Favorite Soft Drink', hue='Gender', data=train, palette='Blues')"
   ]
  },
  {
   "cell_type": "code",
   "execution_count": 37,
   "metadata": {},
   "outputs": [
    {
     "data": {
      "text/plain": [
       "Counter({'F': 33, 'M': 33})"
      ]
     },
     "execution_count": 37,
     "metadata": {},
     "output_type": "execute_result"
    }
   ],
   "source": [
    "collections.Counter(train.values[:, -1])"
   ]
  },
  {
   "cell_type": "code",
   "execution_count": 65,
   "metadata": {},
   "outputs": [
    {
     "name": "stdout",
     "output_type": "stream",
     "text": [
      "1.0\n"
     ]
    }
   ],
   "source": [
    "# 의사결정트리 ID3 알고리즘 사용\n",
    "# entropy 계산\n",
    "entropy = - (33/66) * math.log(33/66, 2) - (33/66) * math.log(33/66, 2)\n",
    "print(entropy)"
   ]
  },
  {
   "cell_type": "code",
   "execution_count": 129,
   "metadata": {},
   "outputs": [
    {
     "data": {
      "text/plain": [
       "array([['Cool', 'Rock', 'Vodka', '7UP/Sprite', 'F'],\n",
       "       ['Neutral', 'Hip hop', 'Vodka', 'Coca Cola/Pepsi', 'F'],\n",
       "       ['Warm', 'Rock', 'Wine', 'Coca Cola/Pepsi', 'F'],\n",
       "       ['Warm', 'Folk/Traditional', 'Whiskey', 'Fanta', 'F'],\n",
       "       ['Cool', 'Rock', 'Vodka', 'Coca Cola/Pepsi', 'F'],\n",
       "       ['Warm', 'Jazz/Blues', \"Doesn't drink\", 'Fanta', 'F'],\n",
       "       ['Cool', 'Pop', 'Beer', 'Coca Cola/Pepsi', 'F'],\n",
       "       ['Warm', 'Pop', 'Whiskey', 'Fanta', 'F'],\n",
       "       ['Warm', 'Rock', 'Other', '7UP/Sprite', 'F'],\n",
       "       ['Neutral', 'Pop', 'Wine', 'Coca Cola/Pepsi', 'F'],\n",
       "       ['Cool', 'Pop', 'Other', '7UP/Sprite', 'F'],\n",
       "       ['Warm', 'Pop', 'Other', '7UP/Sprite', 'F'],\n",
       "       ['Warm', 'Pop', 'Wine', '7UP/Sprite', 'F'],\n",
       "       ['Warm', 'Electronic', 'Wine', 'Coca Cola/Pepsi', 'F'],\n",
       "       ['Cool', 'Rock', 'Beer', 'Coca Cola/Pepsi', 'F'],\n",
       "       ['Warm', 'Jazz/Blues', 'Wine', 'Coca Cola/Pepsi', 'F'],\n",
       "       ['Cool', 'Pop', 'Wine', '7UP/Sprite', 'F'],\n",
       "       ['Cool', 'Rock', 'Other', 'Coca Cola/Pepsi', 'F'],\n",
       "       ['Cool', 'Rock', 'Other', 'Coca Cola/Pepsi', 'F'],\n",
       "       ['Cool', 'Pop', \"Doesn't drink\", '7UP/Sprite', 'F'],\n",
       "       ['Cool', 'Pop', 'Beer', 'Fanta', 'F'],\n",
       "       ['Warm', 'Jazz/Blues', 'Whiskey', 'Fanta', 'F'],\n",
       "       ['Cool', 'Rock', 'Vodka', 'Coca Cola/Pepsi', 'F'],\n",
       "       ['Warm', 'Pop', 'Other', 'Coca Cola/Pepsi', 'F'],\n",
       "       ['Cool', 'Folk/Traditional', 'Whiskey', '7UP/Sprite', 'F'],\n",
       "       ['Warm', 'R&B and soul', 'Whiskey', 'Coca Cola/Pepsi', 'F'],\n",
       "       ['Cool', 'Pop', 'Beer', 'Other', 'F'],\n",
       "       ['Cool', 'Pop', \"Doesn't drink\", 'Other', 'F'],\n",
       "       ['Cool', 'Pop', \"Doesn't drink\", 'Coca Cola/Pepsi', 'F'],\n",
       "       ['Cool', 'Electronic', \"Doesn't drink\", 'Fanta', 'F'],\n",
       "       ['Warm', 'Rock', 'Other', 'Coca Cola/Pepsi', 'F'],\n",
       "       ['Neutral', 'Rock', 'Beer', 'Coca Cola/Pepsi', 'F'],\n",
       "       ['Cool', 'R&B and soul', 'Beer', 'Coca Cola/Pepsi', 'F'],\n",
       "       ['Warm', 'R&B and soul', 'Wine', 'Other', 'M'],\n",
       "       ['Neutral', 'Hip hop', 'Beer', '7UP/Sprite', 'M'],\n",
       "       ['Warm', 'Electronic', 'Other', 'Coca Cola/Pepsi', 'M'],\n",
       "       ['Neutral', 'Rock', \"Doesn't drink\", 'Coca Cola/Pepsi', 'M'],\n",
       "       ['Cool', 'Pop', 'Other', 'Fanta', 'M'],\n",
       "       ['Cool', 'Pop', 'Whiskey', 'Fanta', 'M'],\n",
       "       ['Warm', 'Rock', 'Vodka', '7UP/Sprite', 'M'],\n",
       "       ['Cool', 'Rock', 'Vodka', 'Coca Cola/Pepsi', 'M'],\n",
       "       ['Neutral', 'Pop', \"Doesn't drink\", '7UP/Sprite', 'M'],\n",
       "       ['Warm', 'R&B and soul', \"Doesn't drink\", 'Coca Cola/Pepsi', 'M'],\n",
       "       ['Cool', 'Rock', 'Wine', '7UP/Sprite', 'M'],\n",
       "       ['Cool', 'Folk/Traditional', 'Beer', 'Other', 'M'],\n",
       "       ['Cool', 'Hip hop', 'Beer', 'Coca Cola/Pepsi', 'M'],\n",
       "       ['Cool', 'Hip hop', 'Wine', 'Coca Cola/Pepsi', 'M'],\n",
       "       ['Cool', 'R&B and soul', 'Whiskey', '7UP/Sprite', 'M'],\n",
       "       ['Cool', 'Rock', \"Doesn't drink\", 'Other', 'M'],\n",
       "       ['Warm', 'Hip hop', 'Beer', 'Coca Cola/Pepsi', 'M'],\n",
       "       ['Cool', 'R&B and soul', \"Doesn't drink\", 'Coca Cola/Pepsi', 'M'],\n",
       "       ['Cool', 'Rock', \"Doesn't drink\", 'Coca Cola/Pepsi', 'M'],\n",
       "       ['Cool', 'Hip hop', \"Doesn't drink\", 'Other', 'M'],\n",
       "       ['Warm', 'Rock', 'Beer', 'Fanta', 'M'],\n",
       "       ['Cool', 'Electronic', \"Doesn't drink\", 'Fanta', 'M'],\n",
       "       ['Cool', 'Electronic', 'Other', 'Fanta', 'M'],\n",
       "       ['Warm', 'Folk/Traditional', 'Other', 'Fanta', 'M'],\n",
       "       ['Warm', 'Electronic', 'Vodka', 'Fanta', 'M'],\n",
       "       ['Warm', 'Jazz/Blues', 'Vodka', 'Coca Cola/Pepsi', 'M'],\n",
       "       ['Cool', 'Pop', 'Whiskey', 'Other', 'M'],\n",
       "       ['Cool', 'Electronic', 'Whiskey', 'Coca Cola/Pepsi', 'M'],\n",
       "       ['Cool', 'Rock', 'Vodka', 'Coca Cola/Pepsi', 'M'],\n",
       "       ['Cool', 'Hip hop', 'Beer', 'Coca Cola/Pepsi', 'M'],\n",
       "       ['Neutral', 'Hip hop', \"Doesn't drink\", 'Fanta', 'M'],\n",
       "       ['Cool', 'Rock', 'Wine', 'Coca Cola/Pepsi', 'M'],\n",
       "       ['Cool', 'Electronic', 'Beer', 'Coca Cola/Pepsi', 'M']],\n",
       "      dtype=object)"
      ]
     },
     "execution_count": 129,
     "metadata": {},
     "output_type": "execute_result"
    }
   ],
   "source": [
    "train.values"
   ]
  },
  {
   "cell_type": "code",
   "execution_count": null,
   "metadata": {},
   "outputs": [],
   "source": [
    "# Information Gain 계산\n",
    "# 주어진 상황의 엔트로피 - 하나의 속성을 잡았을 때의 엔트로피"
   ]
  },
  {
   "cell_type": "code",
   "execution_count": 204,
   "metadata": {},
   "outputs": [],
   "source": [
    "#Entropy Calculation method\n",
    "def calc_entropy(data):\n",
    "    #Calculate the length of the data-set\n",
    "    entries = len(data) \n",
    "    labels = {}\n",
    "    #Read the class labels from the data-set file into the dict object \"labels\"\n",
    "    y_data = np.array(data)[:, -1]\n",
    "    for rec in y_data:\n",
    "        label = rec[-1]\n",
    "        if label not in labels.keys():\n",
    "            labels[label] = 0\n",
    "        labels[label] += 1\n",
    "    #entropy variable is initialized to zero\n",
    "    # print(labels)\n",
    "    entropy = 0.0\n",
    "    #For every class label (x) calculate the probability p(x)\n",
    "    for key in labels:\n",
    "        prob = float(labels[key])/entries\n",
    "        #Entropy formula calculation\n",
    "        entropy -= prob * math.log(prob,2) \n",
    "    #print \"Entropy -- \",entropy\n",
    "    #Return the entropy of the data-set\n",
    "    return entropy"
   ]
  },
  {
   "cell_type": "code",
   "execution_count": 223,
   "metadata": {},
   "outputs": [],
   "source": [
    "#Function to determine the best attribute for the split criteria\n",
    "def attribute_selection(data):\n",
    "    #get the number of features available in the given data-set\n",
    "    features = len(data[0]) - 1\n",
    "    #Fun call to calculate the base entropy (entropy of the entire data-set)\n",
    "    baseEntropy = calc_entropy(data)\n",
    "    #initialize the info-gain variable to zero\n",
    "    max_InfoGain = 0.0;\n",
    "    bestAttr = -1\n",
    "    #iterate through the features identified\n",
    "    for i in range(features):\n",
    "        #store the values of the features in a variable\n",
    "        AttrList = [rec[i] for rec in data]\n",
    "        #get the unique values from the feature values\n",
    "        uniqueVals = set(AttrList)\n",
    "        #initializing the entropy and the attribute entropy to zero\n",
    "        newEntropy = 0.0\n",
    "        attrEntropy = 0.0 \n",
    "        #iterate through the list of unique values and perform split\n",
    "        for value in uniqueVals:\n",
    "         #function call to split the data-set\n",
    "            newData = dataset_split(data, i, value) \n",
    "            #probability calculation\n",
    "            prob = len(newData)/float(len(data)) \n",
    "            #entropy calculation for the attributes\n",
    "            newEntropy = prob * calc_entropy(newData) \n",
    "            attrEntropy += newEntropy \n",
    "        #calculation of Information Gain\n",
    "        infoGain = baseEntropy - attrEntropy \n",
    "#         print('infoGain', infoGain)\n",
    "#         print('max_InfoGain', max_InfoGain)\n",
    "#         print('bestAttr', bestAttr)\n",
    "        #identify the attribute with max info-gain\n",
    "        if (infoGain > max_InfoGain):\n",
    "            max_InfoGain = infoGain\n",
    "            bestAttr = i \n",
    "    #return the attribute identified\n",
    "    return bestAttr"
   ]
  },
  {
   "cell_type": "code",
   "execution_count": 224,
   "metadata": {},
   "outputs": [],
   "source": [
    "#Function to split the data-set based on the attribute that has maximum information gain\n",
    "#input values: data-set, attribute index and attribute-value\n",
    "def dataset_split(data, arc, val):\n",
    "    #declare a list variable to store the newly split data-set\n",
    "    newData = []\n",
    "    #iterate through every record in the data-set and split the data-set\n",
    "    for rec in data: \n",
    "        if rec[arc] == val:\n",
    "            reducedSet = list(rec[:arc]) \n",
    "            reducedSet.extend(rec[arc+1:])\n",
    "            newData.append(reducedSet)\n",
    "    #return the new list that has the data-set that is split on the selected attribute\n",
    "    return newData"
   ]
  },
  {
   "cell_type": "code",
   "execution_count": 225,
   "metadata": {},
   "outputs": [
    {
     "data": {
      "text/plain": [
       "1"
      ]
     },
     "execution_count": 225,
     "metadata": {},
     "output_type": "execute_result"
    }
   ],
   "source": [
    "attribute_selection(train.values)"
   ]
  },
  {
   "cell_type": "code",
   "execution_count": 226,
   "metadata": {},
   "outputs": [],
   "source": [
    "#Function to build the decision tree\n",
    "def decision_tree(data, labels):\n",
    "    #list variable to store the class-labels (terminal nodes of decision tree)\n",
    "    classList = [rec[-1] for rec in data]\n",
    "    if classList.count(classList[0]) == len(classList):\n",
    "        return classList[0]\n",
    "    #functional call to identify the attribute for split\n",
    "    maxGainNode = attribute_selection(data)\n",
    "    #variable to store the class label value\n",
    "    treeLabel = labels[maxGainNode] \n",
    "    #dict object to represent the nodes in the decision tree\n",
    "    theTree = {treeLabel:{}}\n",
    "    del(labels[maxGainNode])\n",
    "    #get the unique values of the attribute identified\n",
    "    nodeValues = [rec[maxGainNode] for rec in data]\n",
    "    uniqueVals = set(nodeValues)\n",
    "    for value in uniqueVals:\n",
    "        subLabels = labels[:]\n",
    "        #update the non-terminal node values of the decision tree\n",
    "        theTree[treeLabel][value] = decision_tree(dataset_split(data, maxGainNode, value),subLabels) \n",
    "    #return the decision tree (dict object)\n",
    "    return theTree"
   ]
  },
  {
   "cell_type": "code",
   "execution_count": 230,
   "metadata": {},
   "outputs": [
    {
     "data": {
      "text/plain": [
       "{'Favorite Music Genre': {'Electronic': {'Favorite Beverage': {'Beer': 'M',\n",
       "    \"Doesn't drink\": {'Gender': {'F': 'F', 'M': 'M'}},\n",
       "    'Other': 'M',\n",
       "    'Vodka': 'M',\n",
       "    'Whiskey': 'M',\n",
       "    'Wine': 'F'}},\n",
       "  'Folk/Traditional': {'Favorite Beverage': {'Beer': 'M',\n",
       "    'Other': 'M',\n",
       "    'Whiskey': 'F'}},\n",
       "  'Hip hop': {'Favorite Beverage': {'Beer': 'M',\n",
       "    \"Doesn't drink\": 'M',\n",
       "    'Vodka': 'F',\n",
       "    'Wine': 'M'}},\n",
       "  'Jazz/Blues': {'Favorite Beverage': {\"Doesn't drink\": 'F',\n",
       "    'Vodka': 'M',\n",
       "    'Whiskey': 'F',\n",
       "    'Wine': 'F'}},\n",
       "  'Pop': {'Favorite Beverage': {'Beer': 'F',\n",
       "    \"Doesn't drink\": {'Favorite Color': {'Cool': 'F', 'Neutral': 'M'}},\n",
       "    'Other': {'Favorite Soft Drink': {'7UP/Sprite': 'F',\n",
       "      'Coca Cola/Pepsi': 'F',\n",
       "      'Fanta': 'M'}},\n",
       "    'Whiskey': {'Favorite Color': {'Cool': 'M', 'Warm': 'F'}},\n",
       "    'Wine': 'F'}},\n",
       "  'R&B and soul': {'Favorite Beverage': {'Beer': 'F',\n",
       "    \"Doesn't drink\": 'M',\n",
       "    'Whiskey': {'Favorite Color': {'Cool': 'M', 'Warm': 'F'}},\n",
       "    'Wine': 'M'}},\n",
       "  'Rock': {'Favorite Beverage': {'Beer': {'Favorite Color': {'Cool': 'F',\n",
       "      'Neutral': 'F',\n",
       "      'Warm': 'M'}},\n",
       "    \"Doesn't drink\": 'M',\n",
       "    'Other': 'F',\n",
       "    'Vodka': {'Favorite Color': {'Cool': {'Favorite Soft Drink': {'7UP/Sprite': 'F',\n",
       "        'Coca Cola/Pepsi': {'Gender': {'F': 'F', 'M': 'M'}}}},\n",
       "      'Warm': 'M'}},\n",
       "    'Wine': {'Favorite Color': {'Cool': 'M', 'Warm': 'F'}}}}}}"
      ]
     },
     "execution_count": 230,
     "metadata": {},
     "output_type": "execute_result"
    }
   ],
   "source": [
    "decision_tree(train.values, ['Favorite Color', 'Favorite Music Genre', 'Favorite Beverage', 'Favorite Soft Drink', 'Gender'])"
   ]
  },
  {
   "cell_type": "code",
   "execution_count": 234,
   "metadata": {},
   "outputs": [],
   "source": [
    "train['Gender'].value_counts()\n",
    "gender_mapping = {\"F\": 0, \"M\": 1}\n",
    "for dataset in [train]:\n",
    "    dataset['gender'] = dataset['Gender'].map(gender_mapping)"
   ]
  },
  {
   "cell_type": "code",
   "execution_count": 235,
   "metadata": {},
   "outputs": [],
   "source": [
    "features_drop = ['Gender']\n",
    "train = train.drop(features_drop, axis=1)"
   ]
  },
  {
   "cell_type": "code",
   "execution_count": 6,
   "metadata": {},
   "outputs": [
    {
     "ename": "ValueError",
     "evalue": "could not convert string to float: 'M'",
     "output_type": "error",
     "traceback": [
      "\u001b[0;31m---------------------------------------------------------------------------\u001b[0m",
      "\u001b[0;31mValueError\u001b[0m                                Traceback (most recent call last)",
      "\u001b[0;32m<ipython-input-6-2612c4593f4f>\u001b[0m in \u001b[0;36m<module>\u001b[0;34m()\u001b[0m\n\u001b[1;32m      1\u001b[0m \u001b[0;32mfrom\u001b[0m \u001b[0msklearn\u001b[0m\u001b[0;34m.\u001b[0m\u001b[0mtree\u001b[0m \u001b[0;32mimport\u001b[0m \u001b[0mDecisionTreeClassifier\u001b[0m\u001b[0;34m\u001b[0m\u001b[0m\n\u001b[1;32m      2\u001b[0m \u001b[0mdtree\u001b[0m\u001b[0;34m=\u001b[0m\u001b[0mDecisionTreeClassifier\u001b[0m\u001b[0;34m(\u001b[0m\u001b[0;34m)\u001b[0m\u001b[0;34m\u001b[0m\u001b[0m\n\u001b[0;32m----> 3\u001b[0;31m \u001b[0mdtree\u001b[0m\u001b[0;34m.\u001b[0m\u001b[0mfit\u001b[0m\u001b[0;34m(\u001b[0m\u001b[0mtrain\u001b[0m\u001b[0;34m,\u001b[0m\u001b[0;34m'gender'\u001b[0m\u001b[0;34m)\u001b[0m\u001b[0;34m\u001b[0m\u001b[0m\n\u001b[0m",
      "\u001b[0;32m~/.pyenv/versions/3.5.6/envs/py35/lib/python3.5/site-packages/sklearn/tree/tree.py\u001b[0m in \u001b[0;36mfit\u001b[0;34m(self, X, y, sample_weight, check_input, X_idx_sorted)\u001b[0m\n\u001b[1;32m    799\u001b[0m             \u001b[0msample_weight\u001b[0m\u001b[0;34m=\u001b[0m\u001b[0msample_weight\u001b[0m\u001b[0;34m,\u001b[0m\u001b[0;34m\u001b[0m\u001b[0m\n\u001b[1;32m    800\u001b[0m             \u001b[0mcheck_input\u001b[0m\u001b[0;34m=\u001b[0m\u001b[0mcheck_input\u001b[0m\u001b[0;34m,\u001b[0m\u001b[0;34m\u001b[0m\u001b[0m\n\u001b[0;32m--> 801\u001b[0;31m             X_idx_sorted=X_idx_sorted)\n\u001b[0m\u001b[1;32m    802\u001b[0m         \u001b[0;32mreturn\u001b[0m \u001b[0mself\u001b[0m\u001b[0;34m\u001b[0m\u001b[0m\n\u001b[1;32m    803\u001b[0m \u001b[0;34m\u001b[0m\u001b[0m\n",
      "\u001b[0;32m~/.pyenv/versions/3.5.6/envs/py35/lib/python3.5/site-packages/sklearn/tree/tree.py\u001b[0m in \u001b[0;36mfit\u001b[0;34m(self, X, y, sample_weight, check_input, X_idx_sorted)\u001b[0m\n\u001b[1;32m    114\u001b[0m         \u001b[0mrandom_state\u001b[0m \u001b[0;34m=\u001b[0m \u001b[0mcheck_random_state\u001b[0m\u001b[0;34m(\u001b[0m\u001b[0mself\u001b[0m\u001b[0;34m.\u001b[0m\u001b[0mrandom_state\u001b[0m\u001b[0;34m)\u001b[0m\u001b[0;34m\u001b[0m\u001b[0m\n\u001b[1;32m    115\u001b[0m         \u001b[0;32mif\u001b[0m \u001b[0mcheck_input\u001b[0m\u001b[0;34m:\u001b[0m\u001b[0;34m\u001b[0m\u001b[0m\n\u001b[0;32m--> 116\u001b[0;31m             \u001b[0mX\u001b[0m \u001b[0;34m=\u001b[0m \u001b[0mcheck_array\u001b[0m\u001b[0;34m(\u001b[0m\u001b[0mX\u001b[0m\u001b[0;34m,\u001b[0m \u001b[0mdtype\u001b[0m\u001b[0;34m=\u001b[0m\u001b[0mDTYPE\u001b[0m\u001b[0;34m,\u001b[0m \u001b[0maccept_sparse\u001b[0m\u001b[0;34m=\u001b[0m\u001b[0;34m\"csc\"\u001b[0m\u001b[0;34m)\u001b[0m\u001b[0;34m\u001b[0m\u001b[0m\n\u001b[0m\u001b[1;32m    117\u001b[0m             \u001b[0my\u001b[0m \u001b[0;34m=\u001b[0m \u001b[0mcheck_array\u001b[0m\u001b[0;34m(\u001b[0m\u001b[0my\u001b[0m\u001b[0;34m,\u001b[0m \u001b[0mensure_2d\u001b[0m\u001b[0;34m=\u001b[0m\u001b[0;32mFalse\u001b[0m\u001b[0;34m,\u001b[0m \u001b[0mdtype\u001b[0m\u001b[0;34m=\u001b[0m\u001b[0;32mNone\u001b[0m\u001b[0;34m)\u001b[0m\u001b[0;34m\u001b[0m\u001b[0m\n\u001b[1;32m    118\u001b[0m             \u001b[0;32mif\u001b[0m \u001b[0missparse\u001b[0m\u001b[0;34m(\u001b[0m\u001b[0mX\u001b[0m\u001b[0;34m)\u001b[0m\u001b[0;34m:\u001b[0m\u001b[0;34m\u001b[0m\u001b[0m\n",
      "\u001b[0;32m~/.pyenv/versions/3.5.6/envs/py35/lib/python3.5/site-packages/sklearn/utils/validation.py\u001b[0m in \u001b[0;36mcheck_array\u001b[0;34m(array, accept_sparse, accept_large_sparse, dtype, order, copy, force_all_finite, ensure_2d, allow_nd, ensure_min_samples, ensure_min_features, warn_on_dtype, estimator)\u001b[0m\n\u001b[1;32m    525\u001b[0m             \u001b[0;32mtry\u001b[0m\u001b[0;34m:\u001b[0m\u001b[0;34m\u001b[0m\u001b[0m\n\u001b[1;32m    526\u001b[0m                 \u001b[0mwarnings\u001b[0m\u001b[0;34m.\u001b[0m\u001b[0msimplefilter\u001b[0m\u001b[0;34m(\u001b[0m\u001b[0;34m'error'\u001b[0m\u001b[0;34m,\u001b[0m \u001b[0mComplexWarning\u001b[0m\u001b[0;34m)\u001b[0m\u001b[0;34m\u001b[0m\u001b[0m\n\u001b[0;32m--> 527\u001b[0;31m                 \u001b[0marray\u001b[0m \u001b[0;34m=\u001b[0m \u001b[0mnp\u001b[0m\u001b[0;34m.\u001b[0m\u001b[0masarray\u001b[0m\u001b[0;34m(\u001b[0m\u001b[0marray\u001b[0m\u001b[0;34m,\u001b[0m \u001b[0mdtype\u001b[0m\u001b[0;34m=\u001b[0m\u001b[0mdtype\u001b[0m\u001b[0;34m,\u001b[0m \u001b[0morder\u001b[0m\u001b[0;34m=\u001b[0m\u001b[0morder\u001b[0m\u001b[0;34m)\u001b[0m\u001b[0;34m\u001b[0m\u001b[0m\n\u001b[0m\u001b[1;32m    528\u001b[0m             \u001b[0;32mexcept\u001b[0m \u001b[0mComplexWarning\u001b[0m\u001b[0;34m:\u001b[0m\u001b[0;34m\u001b[0m\u001b[0m\n\u001b[1;32m    529\u001b[0m                 raise ValueError(\"Complex data not supported\\n\"\n",
      "\u001b[0;32m~/.pyenv/versions/3.5.6/envs/py35/lib/python3.5/site-packages/numpy/core/numeric.py\u001b[0m in \u001b[0;36masarray\u001b[0;34m(a, dtype, order)\u001b[0m\n\u001b[1;32m    490\u001b[0m \u001b[0;34m\u001b[0m\u001b[0m\n\u001b[1;32m    491\u001b[0m     \"\"\"\n\u001b[0;32m--> 492\u001b[0;31m     \u001b[0;32mreturn\u001b[0m \u001b[0marray\u001b[0m\u001b[0;34m(\u001b[0m\u001b[0ma\u001b[0m\u001b[0;34m,\u001b[0m \u001b[0mdtype\u001b[0m\u001b[0;34m,\u001b[0m \u001b[0mcopy\u001b[0m\u001b[0;34m=\u001b[0m\u001b[0;32mFalse\u001b[0m\u001b[0;34m,\u001b[0m \u001b[0morder\u001b[0m\u001b[0;34m=\u001b[0m\u001b[0morder\u001b[0m\u001b[0;34m)\u001b[0m\u001b[0;34m\u001b[0m\u001b[0m\n\u001b[0m\u001b[1;32m    493\u001b[0m \u001b[0;34m\u001b[0m\u001b[0m\n\u001b[1;32m    494\u001b[0m \u001b[0;34m\u001b[0m\u001b[0m\n",
      "\u001b[0;31mValueError\u001b[0m: could not convert string to float: 'M'"
     ]
    }
   ],
   "source": [
    "from sklearn.tree import DecisionTreeClassifier\n",
    "dtree=DecisionTreeClassifier()\n",
    "dtree.fit(train,'gender')"
   ]
  },
  {
   "cell_type": "code",
   "execution_count": 7,
   "metadata": {},
   "outputs": [],
   "source": [
    "import sklearn.datasets as datasets\n",
    "import pandas as pd\n",
    "iris=datasets.load_iris()\n",
    "df=pd.DataFrame(iris.data, columns=iris.feature_names)\n",
    "y=iris.target"
   ]
  },
  {
   "cell_type": "code",
   "execution_count": 8,
   "metadata": {},
   "outputs": [
    {
     "data": {
      "text/plain": [
       "DecisionTreeClassifier(class_weight=None, criterion='gini', max_depth=None,\n",
       "            max_features=None, max_leaf_nodes=None,\n",
       "            min_impurity_decrease=0.0, min_impurity_split=None,\n",
       "            min_samples_leaf=1, min_samples_split=2,\n",
       "            min_weight_fraction_leaf=0.0, presort=False, random_state=None,\n",
       "            splitter='best')"
      ]
     },
     "execution_count": 8,
     "metadata": {},
     "output_type": "execute_result"
    }
   ],
   "source": [
    "from sklearn.tree import DecisionTreeClassifier\n",
    "dtree=DecisionTreeClassifier()\n",
    "dtree.fit(df,y)"
   ]
  },
  {
   "cell_type": "code",
   "execution_count": 10,
   "metadata": {},
   "outputs": [
    {
     "ename": "ImportError",
     "evalue": "No module named 'pydotplus'",
     "output_type": "error",
     "traceback": [
      "\u001b[0;31m---------------------------------------------------------------------------\u001b[0m",
      "\u001b[0;31mImportError\u001b[0m                               Traceback (most recent call last)",
      "\u001b[0;32m<ipython-input-10-1ac8e39a54d1>\u001b[0m in \u001b[0;36m<module>\u001b[0;34m()\u001b[0m\n\u001b[1;32m      2\u001b[0m \u001b[0;32mfrom\u001b[0m \u001b[0mIPython\u001b[0m\u001b[0;34m.\u001b[0m\u001b[0mdisplay\u001b[0m \u001b[0;32mimport\u001b[0m \u001b[0mImage\u001b[0m\u001b[0;34m\u001b[0m\u001b[0m\n\u001b[1;32m      3\u001b[0m \u001b[0;32mfrom\u001b[0m \u001b[0msklearn\u001b[0m\u001b[0;34m.\u001b[0m\u001b[0mtree\u001b[0m \u001b[0;32mimport\u001b[0m \u001b[0mexport_graphviz\u001b[0m\u001b[0;34m\u001b[0m\u001b[0m\n\u001b[0;32m----> 4\u001b[0;31m \u001b[0;32mimport\u001b[0m \u001b[0mpydotplus\u001b[0m\u001b[0;34m\u001b[0m\u001b[0m\n\u001b[0m\u001b[1;32m      5\u001b[0m \u001b[0mdot_data\u001b[0m \u001b[0;34m=\u001b[0m \u001b[0mStringIO\u001b[0m\u001b[0;34m(\u001b[0m\u001b[0;34m)\u001b[0m\u001b[0;34m\u001b[0m\u001b[0m\n\u001b[1;32m      6\u001b[0m export_graphviz(dtree, out_file=dot_data,  \n",
      "\u001b[0;31mImportError\u001b[0m: No module named 'pydotplus'"
     ]
    }
   ],
   "source": [
    "from sklearn.externals.six import StringIO  \n",
    "from IPython.display import Image  \n",
    "from sklearn.tree import export_graphviz\n",
    "import pydotplus\n",
    "dot_data = StringIO()\n",
    "export_graphviz(dtree, out_file=dot_data,  \n",
    "                filled=True, rounded=True,\n",
    "                special_characters=True)\n",
    "graph = pydotplus.graph_from_dot_data(dot_data.getvalue())  \n",
    "Image(graph.create_png())"
   ]
  },
  {
   "cell_type": "code",
   "execution_count": null,
   "metadata": {},
   "outputs": [],
   "source": []
  }
 ],
 "metadata": {
  "kernelspec": {
   "display_name": "Python 3",
   "language": "python",
   "name": "python3"
  },
  "language_info": {
   "codemirror_mode": {
    "name": "ipython",
    "version": 3
   },
   "file_extension": ".py",
   "mimetype": "text/x-python",
   "name": "python",
   "nbconvert_exporter": "python",
   "pygments_lexer": "ipython3",
   "version": "3.5.6"
  }
 },
 "nbformat": 4,
 "nbformat_minor": 2
}
